{
  "nbformat": 4,
  "nbformat_minor": 0,
  "metadata": {
    "colab": {
      "provenance": [],
      "authorship_tag": "ABX9TyMvi1VAMOkELuodAqMSxBIv",
      "include_colab_link": true
    },
    "kernelspec": {
      "name": "python3",
      "display_name": "Python 3"
    },
    "language_info": {
      "name": "python"
    }
  },
  "cells": [
    {
      "cell_type": "markdown",
      "metadata": {
        "id": "view-in-github",
        "colab_type": "text"
      },
      "source": [
        "<a href=\"https://colab.research.google.com/github/Wisely9/BlockChain/blob/master/Shipping_and_Returns_CHT_Update.ipynb\" target=\"_parent\"><img src=\"https://colab.research.google.com/assets/colab-badge.svg\" alt=\"Open In Colab\"/></a>"
      ]
    },
    {
      "cell_type": "code",
      "execution_count": null,
      "metadata": {
        "id": "UvAYEPp9hUks"
      },
      "outputs": [],
      "source": [
        "class Order(Base):\n",
        "  def __init__(self, order_id):\n",
        "    self.order_id = order_id\n",
        "    self.products = []\n",
        "    self.status = \"待處理\"  # 訂單狀態可以是“待處理”、“已送貨”、“已退貨”\n",
        "\n",
        "  def add_product(self, product):\n",
        "    if product:\n",
        "      self.products.append(product)\n",
        "      return self.success(\"產品新增至訂單成功\", product)\n",
        "    return self.error(\"無效的產品，無法加入訂單\")\n",
        "\n",
        "  def ship_order(self):\n",
        "    if self.status == \"待處理\":\n",
        "      self.status = \"已送貨\"\n",
        "      return self.success(f\"訂單 {self.order_id} 已送貨\")\n",
        "    return self.error(f\"訂單狀態無法送貨，當前狀態為：{self.status}\")\n",
        "\n",
        "  def return_order(self):\n",
        "    if self.status == \"已送貨\":\n",
        "      self.status = \"已退貨\"\n",
        "      return self.success(f\"訂單 {self.order_id} 已退貨\")\n",
        "    return self.error(f\"訂單狀態無法退貨，當前狀態為：{self.status}\")\n",
        "\n",
        "  def get_order_info(self):\n",
        "    if not self.products:\n",
        "      return self.error(\"訂單內無任何產品\")\n",
        "    product_info = ', '.join(\n",
        "      [f\"{p['product_name']} (ID: {p['product_id']}, Price: ${p['product_price']})\" for p in self.products]\n",
        "    )\n",
        "    return self.success(f\"Order ID: {self.order_id}, Status: {self.status}, Products: [{product_info}]\")\n",
        "\n",
        "\n",
        "if __name__ == \"__main__\":\n",
        "  # Create an order and add products\n",
        "  order_instance = Order(\"ORD001\")\n",
        "  order_instance.add_product(product_instance.get_product(1, False))\n",
        "  order_instance.add_product(product_instance.get_product(2, False))\n",
        "\n",
        "  # Test the order methods\n",
        "  print(order_instance.get_order_info())  # 顯示訂單資訊。\n",
        "  print(order_instance.ship_order())    # 應顯示訂單Order001已出貨。\"\n",
        "  print(order_instance.get_order_info())  # 更新訂單資訊。\n",
        "  print(order_instance.return_order())   # 應顯示Order ORD001已經被退貨。\"\n",
        "  print(order_instance.get_order_info())  # 更新訂單資訊。\n"
      ]
    }
  ]
}